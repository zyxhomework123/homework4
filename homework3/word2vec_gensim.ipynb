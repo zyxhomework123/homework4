{
 "cells": [
  {
   "cell_type": "code",
   "id": "initial_id",
   "metadata": {
    "collapsed": true,
    "ExecuteTime": {
     "end_time": "2025-04-02T10:09:47.423894Z",
     "start_time": "2025-04-02T10:09:47.400660Z"
    }
   },
   "source": [
    "import pandas as pd\n",
    "import jieba\n",
    "from gensim.models import Word2Vec\n",
    "\n",
    "# 加载数据\n",
    "data = pd.read_csv('train.csv')\n",
    "print(\"数据样例：\\n\", data.head(2))"
   ],
   "outputs": [
    {
     "name": "stdout",
     "output_type": "stream",
     "text": [
      "数据样例：\n",
      "    label             comment\n",
      "0      0  一如既往地好吃，希望可以开到其他城市\n",
      "1      0   味道很不错，分量足，客人很多，满意\n"
     ]
    }
   ],
   "execution_count": 2
  },
  {
   "metadata": {
    "ExecuteTime": {
     "end_time": "2025-04-02T10:10:03.765699Z",
     "start_time": "2025-04-02T10:10:02.716604Z"
    }
   },
   "cell_type": "code",
   "source": [
    "# 定义预处理函数\n",
    "def preprocess(text):\n",
    "    text = str(text)\n",
    "    # 去除标点符号\n",
    "    text = text.replace(\"，\", \"\").replace(\"!\", \"\").replace(\"！\", \"\").replace(\"。\", \"\") \\\n",
    "              .replace(\"~\", \"\").replace(\"；\", \"\").replace(\"？\", \"\").replace(\"?\", \"\") \\\n",
    "              .replace(\"【\", \"\").replace(\"】\", \"\").replace(\"#\", \"\")\n",
    "    # 精确分词\n",
    "    return list(jieba.cut(text))\n",
    "\n",
    "# 对评论文本进行分词处理\n",
    "corpus = data['comment'].apply(preprocess)\n",
    "print(\"分词样例：\", corpus[0])"
   ],
   "id": "62637ba633167af",
   "outputs": [
    {
     "name": "stdout",
     "output_type": "stream",
     "text": [
      "分词样例： ['一如既往', '地', '好吃', '希望', '可以', '开', '到', '其他', '城市']\n"
     ]
    }
   ],
   "execution_count": 3
  },
  {
   "metadata": {
    "ExecuteTime": {
     "end_time": "2025-04-02T10:10:15.236213Z",
     "start_time": "2025-04-02T10:10:14.381102Z"
    }
   },
   "cell_type": "code",
   "source": [
    "# 训练Skip-Gram模型（sg=1）\n",
    "model = Word2Vec(\n",
    "    sentences=corpus,\n",
    "    vector_size=100,  # 词向量维度\n",
    "    window=5,         # 上下文窗口大小\n",
    "    min_count=1,      # 最小词频\n",
    "    sg=1,             # Skip-Gram模式\n",
    "    workers=4         # 并行线程数\n",
    ")\n",
    "print(\"模型训练完成！\")"
   ],
   "id": "fafff5d8cd5daca5",
   "outputs": [
    {
     "name": "stdout",
     "output_type": "stream",
     "text": [
      "模型训练完成！\n"
     ]
    }
   ],
   "execution_count": 4
  },
  {
   "metadata": {
    "ExecuteTime": {
     "end_time": "2025-04-02T10:10:34.990365Z",
     "start_time": "2025-04-02T10:10:34.975168Z"
    }
   },
   "cell_type": "code",
   "source": [
    "try:\n",
    "    vector = model.wv[\"环境\"]\n",
    "    print(\"词向量（前5维）：\", vector[:5])\n",
    "    print(\"形状：\", vector.shape)\n",
    "except KeyError:\n",
    "    print(\"词语 '环境' 不在词汇表中！\")"
   ],
   "id": "2dfecd9be235360f",
   "outputs": [
    {
     "name": "stdout",
     "output_type": "stream",
     "text": [
      "词向量（前5维）： [ 0.1254612   0.473996    0.00405439  0.17687885 -0.02791959]\n",
      "形状： (100,)\n"
     ]
    }
   ],
   "execution_count": 5
  },
  {
   "metadata": {
    "ExecuteTime": {
     "end_time": "2025-04-02T10:10:45.698034Z",
     "start_time": "2025-04-02T10:10:45.685067Z"
    }
   },
   "cell_type": "code",
   "source": [
    "try:\n",
    "    similar_words = model.wv.most_similar(\"好吃\", topn=3)\n",
    "    for word, score in similar_words:\n",
    "        print(f\"{word}: {score:.4f}\")\n",
    "except KeyError:\n",
    "    print(\"词语 '好吃' 不在词汇表中！\")"
   ],
   "id": "4d435567b02be8a",
   "outputs": [
    {
     "name": "stdout",
     "output_type": "stream",
     "text": [
      "入味: 0.8962\n",
      "好看: 0.8819\n",
      "美味: 0.8747\n"
     ]
    }
   ],
   "execution_count": 6
  },
  {
   "metadata": {
    "ExecuteTime": {
     "end_time": "2025-04-02T10:10:58.347214Z",
     "start_time": "2025-04-02T10:10:58.342288Z"
    }
   },
   "cell_type": "code",
   "source": [
    "def safe_similarity(word1, word2):\n",
    "    if word1 in model.wv and word2 in model.wv:\n",
    "        return model.wv.similarity(word1, word2)\n",
    "    else:\n",
    "        return \"词语不存在！\"\n",
    "\n",
    "sim1 = safe_similarity(\"好吃\", \"美味\")\n",
    "sim2 = safe_similarity(\"好吃\", \"蟑螂\")\n",
    "print(f\"好吃 vs 美味: {sim1:.4f}\")\n",
    "print(f\"好吃 vs 蟑螂: {sim2:.4f}\")"
   ],
   "id": "2e78730e12a8f867",
   "outputs": [
    {
     "name": "stdout",
     "output_type": "stream",
     "text": [
      "好吃 vs 美味: 0.8747\n",
      "好吃 vs 蟑螂: 0.5082\n"
     ]
    }
   ],
   "execution_count": 7
  },
  {
   "metadata": {
    "ExecuteTime": {
     "end_time": "2025-04-02T10:11:10.453716Z",
     "start_time": "2025-04-02T10:11:10.439716Z"
    }
   },
   "cell_type": "code",
   "source": [
    "try:\n",
    "    result = model.wv.most_similar(\n",
    "        positive=[\"餐厅\", \"聚会\"],\n",
    "        negative=[\"安静\"],\n",
    "        topn=1\n",
    "    )\n",
    "    print(\"餐厅 + 聚会 - 安静 =\", result[0][0])\n",
    "except KeyError as e:\n",
    "    print(f\"词语 {e} 不在词汇表中！\")"
   ],
   "id": "dae5fdbe39811395",
   "outputs": [
    {
     "name": "stdout",
     "output_type": "stream",
     "text": [
      "餐厅 + 聚会 - 安静 = 客户\n"
     ]
    }
   ],
   "execution_count": 8
  }
 ],
 "metadata": {
  "kernelspec": {
   "display_name": "Python 3",
   "language": "python",
   "name": "python3"
  },
  "language_info": {
   "codemirror_mode": {
    "name": "ipython",
    "version": 2
   },
   "file_extension": ".py",
   "mimetype": "text/x-python",
   "name": "python",
   "nbconvert_exporter": "python",
   "pygments_lexer": "ipython2",
   "version": "2.7.6"
  }
 },
 "nbformat": 4,
 "nbformat_minor": 5
}
